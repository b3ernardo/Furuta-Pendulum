{
 "cells": [
  {
   "cell_type": "code",
   "execution_count": 4,
   "id": "46f6baba",
   "metadata": {},
   "outputs": [
    {
     "name": "stdout",
     "output_type": "stream",
     "text": [
      "Requirement already satisfied: pyserial in c:\\users\\ybern\\anaconda3\\lib\\site-packages (3.5)\n"
     ]
    }
   ],
   "source": [
    "!pip install pyserial"
   ]
  },
  {
   "cell_type": "code",
   "execution_count": 1,
   "id": "15d33f8a",
   "metadata": {},
   "outputs": [
    {
     "name": "stdout",
     "output_type": "stream",
     "text": [
      "All data has been received.\n"
     ]
    }
   ],
   "source": [
    "import serial\n",
    "import numpy as np\n",
    "\n",
    "data = []\n",
    "ser = serial.Serial('COM4', 9600)\n",
    "ser.flushInput()\n",
    "\n",
    "while True:\n",
    "    try:\n",
    "        serial_data = ser.readline()\n",
    "        try:\n",
    "            # Convert byte data to string as below\n",
    "            serial_data = serial_data.decode('utf-8').strip()\n",
    "            if serial_data == \"===\":\n",
    "                print(\"All data has been received.\")\n",
    "                data = np.array(data)\n",
    "                np.savetxt('data_log.txt', data)\n",
    "                break\n",
    "\n",
    "            # Iterate over each item in array and extract value\n",
    "            serial_data = serial_data.split()\n",
    "            raw_data = [0 for x in range(len(serial_data))]\n",
    "            for i in range(len(serial_data)):\n",
    "                raw_data[i] = float(serial_data[i])\n",
    "\n",
    "            # Append data without duplication check\n",
    "            data.append(raw_data)\n",
    "        except Exception as e:\n",
    "            print(f\"Error processing data: {e}\")\n",
    "            continue\n",
    "    except Exception as e:\n",
    "        print(f\"Error reading from serial: {e}\")\n",
    "        break"
   ]
  }
 ],
 "metadata": {
  "kernelspec": {
   "display_name": "Python 3 (ipykernel)",
   "language": "python",
   "name": "python3"
  },
  "language_info": {
   "codemirror_mode": {
    "name": "ipython",
    "version": 3
   },
   "file_extension": ".py",
   "mimetype": "text/x-python",
   "name": "python",
   "nbconvert_exporter": "python",
   "pygments_lexer": "ipython3",
   "version": "3.9.12"
  }
 },
 "nbformat": 4,
 "nbformat_minor": 5
}
